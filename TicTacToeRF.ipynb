{
 "cells": [
  {
   "cell_type": "code",
   "execution_count": 2,
   "metadata": {
    "collapsed": true
   },
   "outputs": [],
   "source": [
    "import numpy as np"
   ]
  },
  {
   "cell_type": "code",
   "execution_count": 5,
   "metadata": {
    "collapsed": false
   },
   "outputs": [],
   "source": [
    "class Environment():\n",
    "    \n",
    "    def __init__(self):\n",
    "        self.board = np.empty(3,3)\n",
    "        \n",
    "    \n",
    "    def draw_board(self):\n",
    "        pass\n",
    "    def game_over(self):\n",
    "        \n",
    "        b=self.board\n",
    "        \n",
    "        occupied_field = b\n",
    "        \n",
    "        return False\n",
    "    \n",
    "    \n",
    "    \n",
    "    \n",
    "\n",
    "class Player():\n",
    "    pass"
   ]
  },
  {
   "cell_type": "code",
   "execution_count": 1,
   "metadata": {
    "collapsed": true
   },
   "outputs": [],
   "source": [
    "def play_game(p1,p2,env,draw=False):\n",
    "    \n",
    "    current_player = None\n",
    "    while not env.game_over():\n",
    "        if current_player == p1:\n",
    "            current_player = p2\n",
    "        else:\n",
    "            current_player = p1\n",
    "            \n",
    "        if draw:\n",
    "            env.draw_board()\n",
    "            \n",
    "        state = current_player.take_action(env)\n",
    "        p1.update_state_history(state)\n",
    "        p2.update_state_history(state)\n",
    "        \n",
    "        \n",
    "        p1.update(env)\n",
    "        p2.update(env)        "
   ]
  },
  {
   "cell_type": "code",
   "execution_count": null,
   "metadata": {
    "collapsed": true
   },
   "outputs": [],
   "source": []
  }
 ],
 "metadata": {
  "kernelspec": {
   "display_name": "Python dla",
   "language": "python",
   "name": "dla"
  },
  "language_info": {
   "codemirror_mode": {
    "name": "ipython",
    "version": 3
   },
   "file_extension": ".py",
   "mimetype": "text/x-python",
   "name": "python",
   "nbconvert_exporter": "python",
   "pygments_lexer": "ipython3",
   "version": "3.6.2"
  }
 },
 "nbformat": 4,
 "nbformat_minor": 2
}
