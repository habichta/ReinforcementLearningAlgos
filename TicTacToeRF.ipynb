{
 "cells": [
  {
   "cell_type": "code",
   "execution_count": 2,
   "metadata": {
    "collapsed": true
   },
   "outputs": [],
   "source": [
    "import numpy as np"
   ]
  },
  {
   "cell_type": "code",
   "execution_count": 5,
   "metadata": {
    "collapsed": false
   },
   "outputs": [],
   "source": [
    "class Environment():\n",
    "    \n",
    "    def __init__(self):\n",
    "        self.board = np.zeros([3,3])\n",
    "        self.game_over = 0\n",
    "        \n",
    "    def draw_board(self):\n",
    "        print(self.board)\n",
    "    \n",
    "    def step(self, cp, action):\n",
    "        self.board[action[0],action[1]] = cp.id\n",
    "        winner = check_winner(action)\n",
    "        self.game_over = winner\n",
    "        \n",
    "    \n",
    "    def check_winner(self):\n",
    "        \n",
    "        return 0;\n",
    "        \n",
    "        \n",
    "    \n",
    "\n",
    "class Player():\n",
    "    def _init_(self, id):\n",
    "        self.id = id\n",
    "\n",
    "        "
   ]
  },
  {
   "cell_type": "code",
   "execution_count": 1,
   "metadata": {
    "collapsed": true
   },
   "outputs": [],
   "source": [
    "def play_game(p1,p2,env,draw=False):\n",
    "    \n",
    "    current_player = None\n",
    "    while not env.game_over():\n",
    "        if current_player == p1:\n",
    "            current_player = p2\n",
    "        else:\n",
    "            current_player = p1\n",
    "            \n",
    "        if draw:\n",
    "            env.draw_board()\n",
    "            \n",
    "        action = current_player.choose_action()\n",
    "        state = env.step(current_player, action)\n",
    "        p1.update_state_history(state)\n",
    "        p2.update_state_history(state)"
   ]
  },
  {
   "cell_type": "code",
   "execution_count": null,
   "metadata": {
    "collapsed": true
   },
   "outputs": [],
   "source": []
  }
 ],
 "metadata": {
  "kernelspec": {
   "display_name": "Python dla",
   "language": "python",
   "name": "dla"
  },
  "language_info": {
   "codemirror_mode": {
    "name": "ipython",
    "version": 3
   },
   "file_extension": ".py",
   "mimetype": "text/x-python",
   "name": "python",
   "nbconvert_exporter": "python",
   "pygments_lexer": "ipython3",
   "version": "3.6.2"
  }
 },
 "nbformat": 4,
 "nbformat_minor": 2
}
